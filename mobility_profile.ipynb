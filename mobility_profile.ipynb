{
 "cells": [
  {
   "cell_type": "code",
   "execution_count": 76,
   "id": "5b90b43d",
   "metadata": {},
   "outputs": [],
   "source": [
    "import matplotlib.pyplot as plt\n",
    "\n",
    "import cooler\n",
    "import numpy as np\n",
    "import scipy as scp\n",
    "import enum\n",
    "\n",
    "class HiCnormType(enum.Enum):\n",
    "    raw = 1 # raw Hi-C matrix with int data values\n",
    "    IC = 2  # Iterative Correction.\n",
    "    VC = 3  # Vanilla-Coverage. This is a simple method where at first each element is divided by sum of respective row and subsequently divided by sum of respective column.\n",
    "\n",
    "def get_HiC_matrix(path, \n",
    "                   resolution=2000,\n",
    "                   sparse=False,\n",
    "                   norm_type=HiCnormType.IC,\n",
    "                   set_zero_diag=True,\n",
    "                   chromname = None, #'chrI'\n",
    "                   tol=1e-10):\n",
    "    \n",
    "    if resolution != 0:\n",
    "        path = path + \"::/resolutions/{}\".format(resolution)\n",
    "        \n",
    "    cool = cooler.Cooler(path) # ['/resolutions/200', '/resolutions/400', '/resolutions/800', '/resolutions/1600', '/resolutions/2000']\n",
    "    \n",
    "    matrix = None\n",
    "    if norm_type == HiCnormType.raw:\n",
    "        if chromname == None:\n",
    "            matrix = cool.matrix(sparse=sparse, balance=False)[:, :]\n",
    "        else:\n",
    "            matrix = cool.matrix(sparse=sparse, balance=False).fetch(chromname)\n",
    "    elif norm_type == HiCnormType.IC:\n",
    "        if chromname == None:\n",
    "            matrix = cool.matrix(sparse=sparse, balance=True)[:, :]\n",
    "        else:\n",
    "            matrix = cool.matrix(sparse=sparse, balance=True).fetch(chromname)\n",
    "    elif norm_type == HiCnormType.VC:\n",
    "        if chromname == None:\n",
    "            matrix = cool.matrix(sparse=sparse, balance=False)[:, :]\n",
    "        else:\n",
    "            matrix = cool.matrix(sparse=sparse, balance=False).fetch(chromname)\n",
    "        \n",
    "        dim = matrix.shape[0]\n",
    "        \n",
    "        sum_along_row = np.asarray(matrix.sum(axis=1)).reshape(-1).astype(np.float64)\n",
    "        for i in range(dim):\n",
    "            if sum_along_row[i] > tol:\n",
    "                sum_along_row[i] = 1 / sum_along_row[i]\n",
    "            else:\n",
    "                sum_along_row[i] = 0\n",
    "        spdiag_inv_sum_along_row = scp.sparse.diags(sum_along_row)\n",
    "        #matrix = spdiag_inv_sum_along_row @ matrix     # we divide each row by the sum of all its elements\n",
    "        \n",
    "        sum_along_column = np.asarray(matrix.sum(axis=0)).reshape(-1).astype(np.float64)\n",
    "        for i in range(dim):\n",
    "            if sum_along_column[i] > tol:\n",
    "                sum_along_column[i] = 1 / sum_along_column[i]\n",
    "            else:\n",
    "                sum_along_column[i] = 0\n",
    "        spdiag_inv_sum_along_column = scp.sparse.diags(sum_along_column)\n",
    "        #matrix = matrix @ spdiag_inv_sum_along_column  # we divide each column by the sum of all its elements\n",
    "    \n",
    "        matrix = spdiag_inv_sum_along_row @ matrix @ spdiag_inv_sum_along_column\n",
    "    \n",
    "    if set_zero_diag == True:\n",
    "        if sparse == False:\n",
    "            np.fill_diagonal(matrix, 0)  # matrix is a dense numpy.ndarray\n",
    "        else:\n",
    "            matrix.setdiag(0)            # matrix is a sparse scipy.sparse._coo.coo_matrix. Can be further converted to CSR/CSC format for fast arithmetic and matrix vector operations (.tocsr()).\n",
    "    \n",
    "    if scp.sparse.issparse(matrix)==False:\n",
    "        matrix = np.nan_to_num(matrix)\n",
    "    \n",
    "    return matrix\n",
    "    \n",
    "    \n",
    "def construct_Kirchhoff_mat(matrix, gamma=1):\n",
    "    # zero all diagonal elements (in case if they are != 0)\n",
    "    if scp.sparse.issparse(matrix) == False:\n",
    "        np.fill_diagonal(matrix, 0)\n",
    "    else:\n",
    "        matrix.setdiag(0)\n",
    "    \n",
    "    sum_along_row = np.asarray(matrix.sum(axis=1)).reshape(-1).astype(np.float64) * gamma\n",
    "    matrix *= -gamma\n",
    "    if scp.sparse.issparse(matrix) == False:\n",
    "        np.fill_diagonal(matrix, sum_along_row)\n",
    "    else:\n",
    "        matrix.setdiag(sum_along_row)\n",
    "    \n",
    "    return matrix"
   ]
  },
  {
   "cell_type": "code",
   "execution_count": 77,
   "id": "46a332ba",
   "metadata": {},
   "outputs": [],
   "source": [
    "import numpy as np\n",
    "import scipy as scp\n",
    "\n",
    "def compute_eigen_decomp(matrix, k=6, which='SM'):\n",
    "    eigvals = None\n",
    "    eigvecs = None\n",
    "    if scp.sparse.issparse(matrix):\n",
    "        eigvals, eigvecs = scp.sparse.linalg.eigsh(matrix, k=k, which=which)\n",
    "    else:\n",
    "        eigvals, eigvecs = np.linalg.eigh(matrix)\n",
    "    return eigvals, eigvecs\n",
    "\n",
    "def compute_cross_correlation_matrix(eigvals, eigvecs, tol=1e-10):\n",
    "    dim = len(eigvals)\n",
    "    cross_cor_mat = np.zeros(dim, dim)\n",
    "    for i in range(dim):\n",
    "        if eigvals[i] > tol:\n",
    "            cross_cor_mat += np.outer(eigvecs[i], eigvecs[i]) / eigvals[i]\n",
    "\n",
    "def compute_cross_correlation_diagonal(eigvals, eigvecs, normalize=True, tol=1e-10):\n",
    "    dim = len(eigvals)\n",
    "    cross_cor_mat_diagonal = np.zeros(dim)\n",
    "    for i in range(dim):\n",
    "        if eigvals[i] > tol:\n",
    "            cross_cor_mat_diagonal += eigvecs[i]**2 / eigvals[i]\n",
    "            \n",
    "    if normalize == True:\n",
    "        cross_cor_mat_diagonal /= np.linalg.norm(cross_cor_mat_diagonal, 2) #.max()\n",
    "    return cross_cor_mat_diagonal"
   ]
  },
  {
   "cell_type": "code",
   "execution_count": 78,
   "id": "562ed764",
   "metadata": {},
   "outputs": [],
   "source": [
    "import numpy as np\n",
    "\n",
    "def save_array(array, filename='data'):\n",
    "    filename += '.npy'\n",
    "    np.save(filename, array) \n",
    "    \n",
    "def read_array(filename):\n",
    "    array = np.load(filename)\n",
    "    return array"
   ]
  },
  {
   "cell_type": "code",
   "execution_count": 79,
   "id": "b5648927",
   "metadata": {
    "scrolled": true
   },
   "outputs": [
    {
     "name": "stdout",
     "output_type": "stream",
     "text": [
      "HiC_mat.shape = (4844, 4844)\n"
     ]
    }
   ],
   "source": [
    "HiC_mat = get_HiC_matrix('/Users/shamilmagomedov/Desktop/data_cool/GSM5057469_Human_matrix.mcool',\n",
    "                   resolution=50000, sparse=False, chromname = 'chr2', norm_type=HiCnormType.IC)\n",
    "\n",
    "print(\"HiC_mat.shape =\", HiC_mat.shape)"
   ]
  },
  {
   "cell_type": "code",
   "execution_count": 80,
   "id": "01404553",
   "metadata": {},
   "outputs": [],
   "source": [
    "eigdecomp_HiC_mat = compute_eigen_decomp(HiC_mat)\n",
    "eigvals_HiC_mat, eigvecs_HiC_mat = eigdecomp_HiC_mat"
   ]
  },
  {
   "cell_type": "code",
   "execution_count": 81,
   "id": "eaa8aba7",
   "metadata": {},
   "outputs": [
    {
     "data": {
      "text/plain": [
       "4843"
      ]
     },
     "execution_count": 81,
     "metadata": {},
     "output_type": "execute_result"
    }
   ],
   "source": [
    "np.argmax(eigvals_HiC_mat)"
   ]
  },
  {
   "cell_type": "code",
   "execution_count": 82,
   "id": "71259a75",
   "metadata": {},
   "outputs": [],
   "source": [
    "K_mat = construct_Kirchhoff_mat(HiC_mat, gamma=1)\n",
    "\n",
    "#K_mat.todense()[:5, :5]\n",
    "#K_mat[:5, :5]\n",
    "#plt.spy(K_mat, markersize=0.1)\n",
    "#plt.show()"
   ]
  },
  {
   "cell_type": "code",
   "execution_count": 83,
   "id": "f34fcb4a",
   "metadata": {},
   "outputs": [],
   "source": [
    "eigdecomp = compute_eigen_decomp(K_mat)\n",
    "eigvals, eigvecs = eigdecomp[0], eigdecomp[1]"
   ]
  },
  {
   "cell_type": "code",
   "execution_count": 84,
   "id": "b8ed0d27",
   "metadata": {},
   "outputs": [],
   "source": [
    "cross_cor_mat_diagonal = compute_cross_correlation_diagonal(eigvals, eigvecs, normalize=True)"
   ]
  },
  {
   "cell_type": "code",
   "execution_count": 85,
   "id": "eec7c0e1",
   "metadata": {},
   "outputs": [
    {
     "data": {
      "text/plain": [
       "array([-2.39167674e-15, -2.13249641e-15, -2.04908949e-15, ...,\n",
       "        8.92216477e-01,  8.94543223e-01,  9.00294412e-01])"
      ]
     },
     "execution_count": 85,
     "metadata": {},
     "output_type": "execute_result"
    }
   ],
   "source": [
    "eigvals"
   ]
  },
  {
   "cell_type": "code",
   "execution_count": 86,
   "id": "dcd05617",
   "metadata": {},
   "outputs": [
    {
     "name": "stdout",
     "output_type": "stream",
     "text": [
      "Hence there are 262 disjoint components in the graph!\n"
     ]
    }
   ],
   "source": [
    "# https://shainarace.github.io/LinearAlgebra/chap1-5.html#spectral\n",
    "print(\"Hence there are {} disjoint components in the graph!\".format((eigvals < 1e-10).sum()))"
   ]
  },
  {
   "cell_type": "markdown",
   "id": "0db5131c",
   "metadata": {},
   "source": [
    "plt.plot(range(0, len(eigvals)),\n",
    "         np.sort(eigvals), marker='o', markersize=3.1, label='eigvals')\n",
    "plt.grid()\n",
    "plt.legend()\n",
    "plt.show()"
   ]
  },
  {
   "cell_type": "markdown",
   "id": "c1009122",
   "metadata": {},
   "source": [
    "\n",
    "fig, ax = plt.subplots()\n",
    "p = ax.imshow(HiC_mat[:100, :100], cmap='plasma')# cmap='OrRd')\n",
    "fig.colorbar(mappable=p, ax=ax)\n",
    "plt.show()\n"
   ]
  },
  {
   "cell_type": "code",
   "execution_count": 87,
   "id": "1fda1c10",
   "metadata": {
    "scrolled": false
   },
   "outputs": [
    {
     "data": {
      "image/png": "[encoded data removed]",
      "text/plain": [
       "<Figure size 640x480 with 1 Axes>"
      ]
     },
     "metadata": {},
     "output_type": "display_data"
    }
   ],
   "source": [
    "\n",
    "plt.plot(cross_cor_mat_diagonal, marker='o', markersize=3.1, linewidth=0.1, label='square fluctuations')\n",
    "plt.plot([0, len(cross_cor_mat_diagonal)], [cross_cor_mat_diagonal.mean(), cross_cor_mat_diagonal.mean()],\n",
    "         linewidth=1.1, label='mean = {}'.format(np.round(cross_cor_mat_diagonal.mean(), decimals=3)))\n",
    "\n",
    "plt.title(\"Chromosome 2\")\n",
    "plt.xlabel(\"bin\")\n",
    "plt.ylabel(\"mobility profile\")\n",
    "\n",
    "#max_eigvec_num = np.argmax(eigvals_HiC_mat)\n",
    "#eigvecs_HiC_mat_max = eigvecs_HiC_mat[max_eigvec_num]\n",
    "#plt.plot(eigvecs_HiC_mat_max, marker='o', markersize=3.1, label='eigvecs_HiC_mat_max')\n",
    "\n",
    "#plt.ylim(0, 0.025)\n",
    "\n",
    "#plt.scatter(range(len(cross_cor_mat_diagonal)), cross_cor_mat_diagonal, marker='o', linewidth=0.01, label='cross_cor_mat_diagonal')\n",
    "#plt.scatter(range(len(eigvecs_HiC_mat)), eigvecs_HiC_mat[max_eigvec_num], marker='o', linewidth=0.01, label='eigvec {}'.format(eigvec_num))\n",
    "\n",
    "plt.grid()\n",
    "plt.legend()\n",
    "\n",
    "#plt.savefig(\"plot_2.pdf\", bbox_inches='tight')\n",
    "plt.show()"
   ]
  },
  {
   "cell_type": "code",
   "execution_count": 88,
   "id": "c1777988",
   "metadata": {},
   "outputs": [
    {
     "data": {
      "text/plain": [
       "0.014266090030322595"
      ]
     },
     "execution_count": 88,
     "metadata": {},
     "output_type": "execute_result"
    }
   ],
   "source": [
    "cross_cor_mat_diagonal.mean()"
   ]
  },
  {
   "cell_type": "code",
   "execution_count": 89,
   "id": "8078e60d",
   "metadata": {},
   "outputs": [
    {
     "data": {
      "text/plain": [
       "array([ 1.,  1.,  1., ..., -1., -1., -1.])"
      ]
     },
     "execution_count": 89,
     "metadata": {},
     "output_type": "execute_result"
    }
   ],
   "source": [
    "status_arr = np.sign(cross_cor_mat_diagonal - cross_cor_mat_diagonal.mean())\n",
    "status_arr"
   ]
  },
  {
   "cell_type": "markdown",
   "id": "a53a855a",
   "metadata": {},
   "source": [
    "$A$\n",
    "\n",
    "$K = \\text{diag}(A \\mathbb{1}) - A$\n",
    "\n",
    "$u_i, \\lambda_i > 0, \\; i=1, \\dots, m$\n",
    "\n",
    "$\\displaystyle cov = \\sum \\limits_k \\dfrac{u_k \\, u_k^{\\top}}{\\lambda_k}$\n",
    "\n",
    "$\\displaystyle \\sum \\limits_k \\dfrac{u_k \\circ u_k}{\\lambda_k}$\n"
   ]
  },
  {
   "cell_type": "code",
   "execution_count": null,
   "id": "c3d05451",
   "metadata": {},
   "outputs": [],
   "source": []
  }
 ],
 "metadata": {
  "kernelspec": {
   "display_name": "Python 3 (ipykernel)",
   "language": "python",
   "name": "python3"
  },
  "language_info": {
   "codemirror_mode": {
    "name": "ipython",
    "version": 3
   },
   "file_extension": ".py",
   "mimetype": "text/x-python",
   "name": "python",
   "nbconvert_exporter": "python",
   "pygments_lexer": "ipython3",
   "version": "3.9.6"
  }
 },
 "nbformat": 4,
 "nbformat_minor": 5
}
